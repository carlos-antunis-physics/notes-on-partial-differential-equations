{
 "cells": [
  {
   "cell_type": "markdown",
   "id": "0b1e48e4-499f-408a-970e-5f248edecd58",
   "metadata": {},
   "source": [
    "# Logistic map\n",
    "\n",
    "![Julia programming\n",
    "language](https://img.shields.io/badge/Julia-efefef.svg?logo=data:image/svg%2bxml;base64,PHN2ZyB4bWxucz0iaHR0cDovL3d3dy53My5vcmcvMjAwMC9zdmciIHZpZXdCb3g9IjAgMCAxMjggMTI4Ij48cGF0aCBkPSJNNTguMyA5My41YzAgMTUuNy0xMi43IDI4LjMtMjguMyAyOC4zLTE1LjcgMC0yOC4zLTEyLjctMjguMy0yOC4zIDAtMTUuNiAxMi43LTI4LjMgMjguMy0yOC4zIDE1LjYtLjEgMjguMyAxMi42IDI4LjMgMjguMyIgZmlsbD0iI2NiM2MzMyIvPjxwYXRoIGQ9Ik0zMCAxMjMuNGMtMTYuNSAwLTMwLTEzLjQtMzAtMzBzMTMuNC0zMCAzMC0zMCAzMCAxMy40IDMwIDMwLTEzLjUgMzAtMzAgMzB6bTAtNTYuNmMtMTQuNyAwLTI2LjcgMTItMjYuNyAyNi43czEyIDI2LjcgMjYuNyAyNi43IDI2LjctMTIgMjYuNy0yNi43LTEyLTI2LjctMjYuNy0yNi43eiIgZmlsbD0iI2VlZSIvPjxwYXRoIGQ9Ik0xMjYuNCA5My41YzAgMTUuNy0xMi43IDI4LjMtMjguMyAyOC4zcy0yOC4zLTEyLjctMjguMy0yOC4zYzAtMTUuNiAxMi43LTI4LjMgMjguMy0yOC4zczI4LjMgMTIuNiAyOC4zIDI4LjMiIGZpbGw9IiM5NTU4YjIiLz48cGF0aCBkPSJNOTggMTIzLjRjLTE2LjUgMC0zMC0xMy40LTMwLTMwczEzLjQtMzAgMzAtMzAgMzAgMTMuNCAzMCAzMC0xMy40IDMwLTMwIDMwem0wLTU2LjZjLTE0LjcgMC0yNi43IDEyLTI2LjcgMjYuN3MxMiAyNi43IDI2LjcgMjYuNyAyNi43LTEyIDI2LjctMjYuN1MxMTIuOCA2Ni44IDk4IDY2Ljh6IiBmaWxsPSIjZWVlIi8+PHBhdGggZD0iTTkyLjQgMzQuNWMwIDE1LjYtMTIuNyAyOC4zLTI4LjMgMjguMy0xNS43IDAtMjguMy0xMi43LTI4LjMtMjguM1M0OC40IDYuMiA2NCA2LjJjMTUuNyAwIDI4LjQgMTIuNyAyOC40IDI4LjMiIGZpbGw9IiMzODk4MjYiLz48cGF0aCBkPSJNNjQgNjQuNWMtMTYuNSAwLTMwLTEzLjQtMzAtMzBzMTMuNC0zMCAzMC0zMCAzMCAxMy40IDMwIDMwLTEzLjUgMzAtMzAgMzB6bTAtNTYuN2MtMTQuNyAwLTI2LjcgMTItMjYuNyAyNi43czEyIDI2LjcgMjYuNyAyNi43IDI2LjctMTIgMjYuNy0yNi43Uzc4LjcgNy44IDY0IDcuOHoiIGZpbGw9IiNlZWUiLz48L3N2Zz4=&style=flat)\n",
    "\n",
    "> **Autor:** [Carlos Antunis Bonfim da Silva Santos](https://github.com/carlos-antunis-physics/)"
   ]
  },
  {
   "cell_type": "markdown",
   "id": "72f17bc6",
   "metadata": {},
   "source": [
    "#\n",
    "\n",
    "![under construction](../../../under-construction.png)"
   ]
  },
  {
   "cell_type": "markdown",
   "id": "6d97914a",
   "metadata": {},
   "source": [
    "#\n",
    "---\n",
    "<div align=\"Right\">\n",
    "\n",
    "[Return to main page](../../../README.md)\n",
    "\n",
    "</div>"
   ]
  }
 ],
 "metadata": {
  "kernelspec": {
   "display_name": "Julia 1.11.5",
   "language": "julia",
   "name": "julia-1.11"
  },
  "language_info": {
   "file_extension": ".jl",
   "mimetype": "application/julia",
   "name": "julia",
   "version": "1.11.5"
  }
 },
 "nbformat": 4,
 "nbformat_minor": 5
}
